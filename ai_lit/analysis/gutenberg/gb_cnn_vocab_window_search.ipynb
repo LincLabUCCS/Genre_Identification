{
 "cells": [
  {
   "cell_type": "code",
   "execution_count": null,
   "metadata": {
    "collapsed": false
   },
   "outputs": [],
   "source": [
    "%matplotlib inline\n",
    "\n",
    "import os\n",
    "import sys\n",
    "ai_lit_path = os.path.abspath(os.path.join(os.getcwd(), os.pardir, os.pardir, os.pardir))\n",
    "print(\"Loading AI Lit system from path\", ai_lit_path)\n",
    "sys.path.append(ai_lit_path)\n",
    "\n",
    "import tensorflow as tf\n",
    "\n",
    "from ai_lit.analysis import analysis_util\n",
    "from ai_lit.university.gutenberg import gb_full_cnn_kim"
   ]
  },
  {
   "cell_type": "code",
   "execution_count": null,
   "metadata": {
    "collapsed": false
   },
   "outputs": [],
   "source": [
    "# use the flags imported from the univserity and the model to set the configuration\n",
    "tf.flags.FLAGS.document_length = 500\n",
    "tf.flags.FLAGS.vocab_count = 100\n",
    "tf.flags.FLAGS.embedding_size=100\n",
    "tf.flags.FLAGS.epochs=10\n",
    "\n",
    "dataset_wkspc = os.path.join(ai_lit_path, 'workspace', 'gb_input')\n",
    "training_wkspc = os.path.join(ai_lit_path, 'workspace', 'gutenberg_vocab_search')\n",
    "model_name = 'cnn_v-1000_ln-500'\n",
    "evaluation_name = 'standard_eval'\n",
    "univ = gb_full_cnn_kim.GbFullCnnKimUniversity(model_name, training_wkspc, dataset_wkspc)\n",
    "accuracy, f1, cm = analysis_util.train_and_evaluate(univ, model_name, evaluation_name)"
   ]
  },
  {
   "cell_type": "code",
   "execution_count": null,
   "metadata": {
    "collapsed": false
   },
   "outputs": [],
   "source": [
    "tf.flags.FLAGS.vocab_count = 1000\n",
    "model_name = 'cnn_v-1000_ln-1000'\n",
    "univ = gb_full_cnn_kim.GbFullCnnKimUniversity(model_name, training_wkspc, dataset_wkspc)\n",
    "accuracy, f1, cm = analysis_util.train_and_evaluate(univ, model_name, evaluation_name)"
   ]
  },
  {
   "cell_type": "code",
   "execution_count": null,
   "metadata": {
    "collapsed": false
   },
   "outputs": [],
   "source": [
    "tf.flags.FLAGS.vocab_count = 2500\n",
    "model_name = 'cnn_v-1000_ln-2500'\n",
    "univ = gb_full_cnn_kim.GbFullCnnKimUniversity(model_name, training_wkspc, dataset_wkspc)\n",
    "accuracy, f1, cm = analysis_util.train_and_evaluate(univ, model_name, evaluation_name)"
   ]
  },
  {
   "cell_type": "code",
   "execution_count": null,
   "metadata": {
    "collapsed": true
   },
   "outputs": [],
   "source": [
    "tf.flags.FLAGS.vocab_count = 5000\n",
    "model_name = 'cnn_v-1000_ln-5000'\n",
    "univ = gb_full_cnn_kim.GbFullCnnKimUniversity(model_name, training_wkspc, dataset_wkspc)\n",
    "accuracy, f1, cm = analysis_util.train_and_evaluate(univ, model_name, evaluation_name)"
   ]
  },
  {
   "cell_type": "code",
   "execution_count": null,
   "metadata": {
    "collapsed": true
   },
   "outputs": [],
   "source": [
    "tf.flags.FLAGS.vocab_count = 10000\n",
    "model_name = 'cnn_v-1000_ln-10000'\n",
    "univ = gb_full_cnn_kim.GbFullCnnKimUniversity(model_name, training_wkspc, dataset_wkspc)\n",
    "accuracy, f1, cm = analysis_util.train_and_evaluate(univ, model_name, evaluation_name)"
   ]
  }
 ],
 "metadata": {
  "kernelspec": {
   "display_name": "Python 3",
   "language": "python",
   "name": "python3"
  },
  "language_info": {
   "codemirror_mode": {
    "name": "ipython",
    "version": 3
   },
   "file_extension": ".py",
   "mimetype": "text/x-python",
   "name": "python",
   "nbconvert_exporter": "python",
   "pygments_lexer": "ipython3",
   "version": "3.5.3"
  }
 },
 "nbformat": 4,
 "nbformat_minor": 2
}
