{
 "cells": [
  {
   "cell_type": "markdown",
   "metadata": {},
   "source": [
    "# Gutenberg Full Dataset with CNN-Kim\n",
    "CNN-Kim analysis with the Gutenberg Full dataset. Using the following configuration:\n",
    "1. Using Learned Embedding\n",
    "1. Embedding size: 100\n",
    "1. Using document length of 5,000\n",
    "1. Top vocabulary count 5,000\n",
    "1. Using filter sizes of 3, 4, 5, 6\n",
    "1. Adam Learning Rate of 1e-4\n",
    "1. L2-contraint 0.001"
   ]
  },
  {
   "cell_type": "code",
   "execution_count": null,
   "metadata": {
    "collapsed": false
   },
   "outputs": [],
   "source": [
    "%matplotlib inline\n",
    "\n",
    "import os\n",
    "import sys\n",
    "ai_lit_path = os.path.abspath(os.path.join(os.getcwd(), os.pardir, os.pardir, os.pardir))\n",
    "print(\"Loading AI Lit system from path\", ai_lit_path)\n",
    "sys.path.append(ai_lit_path)\n",
    "\n",
    "import tensorflow as tf\n",
    "\n",
    "from ai_lit.analysis import analysis_util\n",
    "from ai_lit.university.gutenberg import gb_full_cnn_kim"
   ]
  },
  {
   "cell_type": "code",
   "execution_count": null,
   "metadata": {
    "collapsed": false
   },
   "outputs": [],
   "source": [
    "# use the flags imported from the univserity and the model to set the configuration\n",
    "tf.flags.FLAGS.document_length = 5000\n",
    "tf.flags.FLAGS.vocab_count = 5000\n",
    "tf.flags.FLAGS.embedding_size=100\n",
    "\n",
    "dataset_wkspc = os.path.join(ai_lit_path, 'workspace', 'gb_input')\n",
    "training_wkspc = os.path.join(ai_lit_path, 'workspace', 'gutenberg_full')\n",
    "model_name = 'cnn_kim_l2_learned_embedding'\n",
    "evaluation_name = 'standard_eval'\n",
    "univ = gb_full_cnn_kim.GbFullCnnKimUniversity(model_name, training_wkspc, dataset_wkspc)\n",
    "accuracy, f1, cm = analysis_util.train_and_evaluate(univ, model_name, evaluation_name)"
   ]
  },
  {
   "cell_type": "code",
   "execution_count": null,
   "metadata": {
    "collapsed": true
   },
   "outputs": [],
   "source": []
  }
 ],
 "metadata": {
  "kernelspec": {
   "display_name": "Python 3",
   "language": "python",
   "name": "python3"
  },
  "language_info": {
   "codemirror_mode": {
    "name": "ipython",
    "version": 3
   },
   "file_extension": ".py",
   "mimetype": "text/x-python",
   "name": "python",
   "nbconvert_exporter": "python",
   "pygments_lexer": "ipython3",
   "version": "3.5.3"
  }
 },
 "nbformat": 4,
 "nbformat_minor": 2
}
