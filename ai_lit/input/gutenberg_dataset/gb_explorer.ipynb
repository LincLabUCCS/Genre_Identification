{
 "cells": [
  {
   "cell_type": "code",
   "execution_count": 3,
   "metadata": {
    "collapsed": false
   },
   "outputs": [],
   "source": [
    "import matplotlib\n",
    "import matplotlib.pyplot as plt\n",
    "import nltk\n",
    "import pandas as pd\n",
    "\n",
    "import sys\n",
    "sys.path.append(\"C:/workspaces/python/ai_lit\")\n",
    "from ai_lit.input.gutenberg_dataset import gb_input as gb\n",
    "from ai_lit.input.gutenberg_dataset import gb_dataset_util\n",
    "\n",
    "# Make the graphs a bit prettier, and bigger\n",
    "pd.set_option('display.mpl_style', 'default') \n",
    "pd.set_option('display.width', 5000) \n",
    "pd.set_option('display.max_columns', 60) \n",
    "\n",
    "# include matplot inline in the workbook\n",
    "%matplotlib inline\n",
    "matplotlib.style.use('ggplot')"
   ]
  },
  {
   "cell_type": "code",
   "execution_count": 4,
   "metadata": {
    "collapsed": true
   },
   "outputs": [],
   "source": [
    "train, test, sbjs, vocab = gb.get_inputs('C:/workspaces/python/ai_lit/workspace/gb_input', 5000)"
   ]
  },
  {
   "cell_type": "code",
   "execution_count": 5,
   "metadata": {
    "collapsed": false
   },
   "outputs": [
    {
     "name": "stdout",
     "output_type": "stream",
     "text": [
      "Train set length: 2528\n",
      "Test set length: 1049\n"
     ]
    }
   ],
   "source": [
    "print(\"Train set length:\", len(train))\n",
    "print(\"Test set length:\", len(test))"
   ]
  },
  {
   "cell_type": "code",
   "execution_count": 7,
   "metadata": {
    "collapsed": false
   },
   "outputs": [],
   "source": [
    "variables = train[0].__dict__.keys()\n",
    "train_df = pd.DataFrame([[getattr(i,j) for j in variables] for i in train], columns = variables)\n",
    "test_df = pd.DataFrame([[getattr(i,j) for j in variables] for i in test], columns = variables)"
   ]
  },
  {
   "cell_type": "code",
   "execution_count": 8,
   "metadata": {
    "collapsed": false
   },
   "outputs": [
    {
     "name": "stdout",
     "output_type": "stream",
     "text": [
      "[Train] Number of unknown authors: 13\n",
      "[Train] Number of unknown titles: 0\n",
      "[Test] Number of unknown authors: 1\n",
      "[Test] Number of unknown titles: 0\n"
     ]
    }
   ],
   "source": [
    "print(\"[Train] Number of unknown authors:\", len(train_df[train_df['author'] == 'unknown']))\n",
    "print(\"[Train] Number of unknown titles:\", len(train_df[train_df['title'] == 'unknown']))\n",
    "print(\"[Test] Number of unknown authors:\", len(test_df[test_df['author'] == 'unknown']))\n",
    "print(\"[Test] Number of unknown titles:\", len(test_df[test_df['title'] == 'unknown']))"
   ]
  },
  {
   "cell_type": "code",
   "execution_count": 10,
   "metadata": {
    "collapsed": false
   },
   "outputs": [],
   "source": [
    "train_df['length'] = train_df['body'].apply(lambda x: len(nltk.word_tokenize(x)))\n",
    "test_df['length'] = test_df['body'].apply(lambda x: len(nltk.word_tokenize(x)))"
   ]
  },
  {
   "cell_type": "code",
   "execution_count": 13,
   "metadata": {
    "collapsed": true
   },
   "outputs": [],
   "source": [
    "subjects = [\"Science fiction\", \"Adventure stories\", \"Historical fiction\", \"Love stories\", \"Detective and mystery stories\", \"Western stories\"]\n",
    "train_df['atomic_subject'] = train_df['subjects'].apply(lambda x: gb_dataset_util.get_atomic_subject(x, subjects))\n",
    "test_df['atomic_subject'] = test_df['subjects'].apply(lambda x: gb_dataset_util.get_atomic_subject(x, subjects))"
   ]
  },
  {
   "cell_type": "code",
   "execution_count": 16,
   "metadata": {
    "collapsed": true
   },
   "outputs": [],
   "source": [
    "full_df = pd.concat([train_df, test_df])"
   ]
  },
  {
   "cell_type": "code",
   "execution_count": 20,
   "metadata": {
    "collapsed": false
   },
   "outputs": [
    {
     "data": {
      "text/plain": [
       "Science fiction                  1186\n",
       "Adventure stories                 595\n",
       "Love stories                      508\n",
       "Detective and mystery stories     485\n",
       "Historical fiction                410\n",
       "Western stories                   393\n",
       "Name: atomic_subject, dtype: int64"
      ]
     },
     "execution_count": 20,
     "metadata": {},
     "output_type": "execute_result"
    }
   ],
   "source": [
    "full_df['atomic_subject'].value_counts()"
   ]
  },
  {
   "cell_type": "code",
   "execution_count": 26,
   "metadata": {
    "collapsed": false
   },
   "outputs": [
    {
     "data": {
      "text/plain": [
       "atomic_subject\n",
       "Adventure stories                 91997.047059\n",
       "Detective and mystery stories     87762.758763\n",
       "Historical fiction               133760.565854\n",
       "Love stories                     111880.927165\n",
       "Science fiction                   28535.950253\n",
       "Western stories                   93883.117048\n",
       "Name: length, dtype: float64"
      ]
     },
     "execution_count": 26,
     "metadata": {},
     "output_type": "execute_result"
    }
   ],
   "source": [
    "full_df.groupby(['atomic_subject'])['length'].mean()"
   ]
  },
  {
   "cell_type": "code",
   "execution_count": 27,
   "metadata": {
    "collapsed": false
   },
   "outputs": [
    {
     "data": {
      "text/plain": [
       "atomic_subject\n",
       "Adventure stories                 414568\n",
       "Detective and mystery stories     254328\n",
       "Historical fiction               2999088\n",
       "Love stories                      431133\n",
       "Science fiction                   237699\n",
       "Western stories                   232957\n",
       "Name: length, dtype: int64"
      ]
     },
     "execution_count": 27,
     "metadata": {},
     "output_type": "execute_result"
    }
   ],
   "source": [
    "full_df.groupby(['atomic_subject'])['length'].max()"
   ]
  },
  {
   "cell_type": "code",
   "execution_count": 28,
   "metadata": {
    "collapsed": false
   },
   "outputs": [
    {
     "data": {
      "text/plain": [
       "atomic_subject\n",
       "Adventure stories                4461\n",
       "Detective and mystery stories    9526\n",
       "Historical fiction               3478\n",
       "Love stories                     6940\n",
       "Science fiction                  3766\n",
       "Western stories                  9476\n",
       "Name: length, dtype: int64"
      ]
     },
     "execution_count": 28,
     "metadata": {},
     "output_type": "execute_result"
    }
   ],
   "source": [
    "full_df.groupby(['atomic_subject'])['length'].min()"
   ]
  },
  {
   "cell_type": "code",
   "execution_count": 29,
   "metadata": {
    "collapsed": false
   },
   "outputs": [
    {
     "data": {
      "text/plain": [
       "atomic_subject\n",
       "Adventure stories                 47383.022308\n",
       "Detective and mystery stories     36513.178101\n",
       "Historical fiction               161693.891316\n",
       "Love stories                      67279.125544\n",
       "Science fiction                   33471.728802\n",
       "Western stories                   31280.363937\n",
       "Name: length, dtype: float64"
      ]
     },
     "execution_count": 29,
     "metadata": {},
     "output_type": "execute_result"
    }
   ],
   "source": [
    "full_df.groupby(['atomic_subject'])['length'].std()"
   ]
  },
  {
   "cell_type": "code",
   "execution_count": null,
   "metadata": {
    "collapsed": true
   },
   "outputs": [],
   "source": []
  }
 ],
 "metadata": {
  "kernelspec": {
   "display_name": "Python 3",
   "language": "python",
   "name": "python3"
  },
  "language_info": {
   "codemirror_mode": {
    "name": "ipython",
    "version": 3
   },
   "file_extension": ".py",
   "mimetype": "text/x-python",
   "name": "python",
   "nbconvert_exporter": "python",
   "pygments_lexer": "ipython3",
   "version": "3.5.3"
  }
 },
 "nbformat": 4,
 "nbformat_minor": 0
}
