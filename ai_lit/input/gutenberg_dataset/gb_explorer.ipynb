{
 "cells": [
  {
   "cell_type": "code",
   "execution_count": 1,
   "metadata": {
    "collapsed": false
   },
   "outputs": [
    {
     "name": "stdout",
     "output_type": "stream",
     "text": [
      "Loading AI Lit system from path C:\\Users\\joewo\\workspaces\\python\\ai_lit\n"
     ]
    },
    {
     "name": "stderr",
     "output_type": "stream",
     "text": [
      "C:\\Tools\\Anaconda3\\lib\\site-packages\\gensim\\utils.py:855: UserWarning: detected Windows; aliasing chunkize to chunkize_serial\n",
      "  warnings.warn(\"detected Windows; aliasing chunkize to chunkize_serial\")\n"
     ]
    }
   ],
   "source": [
    "import matplotlib\n",
    "import matplotlib.pyplot as plt\n",
    "import nltk\n",
    "import pandas as pd\n",
    "\n",
    "import os\n",
    "import sys\n",
    "ai_lit_path = os.path.abspath(os.path.join(os.getcwd(), os.pardir, os.pardir, os.pardir))\n",
    "print(\"Loading AI Lit system from path\", ai_lit_path)\n",
    "sys.path.append(ai_lit_path)\n",
    "from ai_lit.input import input_util\n",
    "from ai_lit.input.gutenberg_dataset import gb_input as gb\n",
    "from ai_lit.input.gutenberg_dataset import gb_dataset_util\n",
    "\n",
    "# Make the graphs a bit prettier, and bigger\n",
    "pd.set_option('display.mpl_style', 'default') \n",
    "pd.set_option('display.width', 5000) \n",
    "pd.set_option('display.max_columns', 60) \n",
    "\n",
    "# include matplot inline in the workbook\n",
    "%matplotlib inline\n",
    "matplotlib.style.use('ggplot')"
   ]
  },
  {
   "cell_type": "code",
   "execution_count": 2,
   "metadata": {
    "collapsed": false
   },
   "outputs": [],
   "source": [
    "train, test, sbjs, vocab = gb.get_inputs(os.path.join(ai_lit_path, 'workspace', 'gb_input'), 5000)"
   ]
  },
  {
   "cell_type": "code",
   "execution_count": 3,
   "metadata": {
    "collapsed": false
   },
   "outputs": [
    {
     "name": "stdout",
     "output_type": "stream",
     "text": [
      "Train set length: 2528\n",
      "Test set length: 1049\n"
     ]
    }
   ],
   "source": [
    "print(\"Train set length:\", len(train))\n",
    "print(\"Test set length:\", len(test))"
   ]
  },
  {
   "cell_type": "code",
   "execution_count": 4,
   "metadata": {
    "collapsed": false
   },
   "outputs": [],
   "source": [
    "variables = train[0].__dict__.keys()\n",
    "train_df = pd.DataFrame([[getattr(i,j) for j in variables] for i in train], columns = variables)\n",
    "test_df = pd.DataFrame([[getattr(i,j) for j in variables] for i in test], columns = variables)"
   ]
  },
  {
   "cell_type": "code",
   "execution_count": 5,
   "metadata": {
    "collapsed": false
   },
   "outputs": [
    {
     "name": "stdout",
     "output_type": "stream",
     "text": [
      "[Train] Number of unknown authors: 13\n",
      "[Train] Number of unknown titles: 0\n",
      "[Test] Number of unknown authors: 1\n",
      "[Test] Number of unknown titles: 0\n"
     ]
    }
   ],
   "source": [
    "print(\"[Train] Number of unknown authors:\", len(train_df[train_df['author'] == 'unknown']))\n",
    "print(\"[Train] Number of unknown titles:\", len(train_df[train_df['title'] == 'unknown']))\n",
    "print(\"[Test] Number of unknown authors:\", len(test_df[test_df['author'] == 'unknown']))\n",
    "print(\"[Test] Number of unknown titles:\", len(test_df[test_df['title'] == 'unknown']))"
   ]
  },
  {
   "cell_type": "code",
   "execution_count": 6,
   "metadata": {
    "collapsed": true
   },
   "outputs": [],
   "source": [
    "train_df['chapter_count'] = train_df['body'].apply(lambda x: len(input_util.parse_chapters(x)))\n",
    "test_df['chapter_count'] = test_df['body'].apply(lambda x: len(input_util.parse_chapters(x)))"
   ]
  },
  {
   "cell_type": "code",
   "execution_count": null,
   "metadata": {
    "collapsed": false
   },
   "outputs": [],
   "source": [
    "train_df['length'] = train_df['body'].apply(lambda x: len(nltk.word_tokenize(x)))\n",
    "test_df['length'] = test_df['body'].apply(lambda x: len(nltk.word_tokenize(x)))"
   ]
  },
  {
   "cell_type": "code",
   "execution_count": 7,
   "metadata": {
    "collapsed": true
   },
   "outputs": [],
   "source": [
    "subjects = [\"Science fiction\", \"Adventure stories\", \"Historical fiction\", \"Love stories\", \"Detective and mystery stories\", \"Western stories\"]\n",
    "train_df['atomic_subject'] = train_df['subjects'].apply(lambda x: gb_dataset_util.get_atomic_subject(x, subjects))\n",
    "test_df['atomic_subject'] = test_df['subjects'].apply(lambda x: gb_dataset_util.get_atomic_subject(x, subjects))"
   ]
  },
  {
   "cell_type": "code",
   "execution_count": 8,
   "metadata": {
    "collapsed": true
   },
   "outputs": [],
   "source": [
    "full_df = pd.concat([train_df, test_df])"
   ]
  },
  {
   "cell_type": "code",
   "execution_count": 9,
   "metadata": {
    "collapsed": false
   },
   "outputs": [
    {
     "data": {
      "text/plain": [
       "Science fiction                  1186\n",
       "Adventure stories                 595\n",
       "Love stories                      508\n",
       "Detective and mystery stories     485\n",
       "Historical fiction                410\n",
       "Western stories                   393\n",
       "Name: atomic_subject, dtype: int64"
      ]
     },
     "execution_count": 9,
     "metadata": {},
     "output_type": "execute_result"
    }
   ],
   "source": [
    "full_df['atomic_subject'].value_counts()"
   ]
  },
  {
   "cell_type": "code",
   "execution_count": 10,
   "metadata": {
    "collapsed": false
   },
   "outputs": [
    {
     "data": {
      "text/plain": [
       "atomic_subject\n",
       "Adventure stories                27.341176\n",
       "Detective and mystery stories    27.115464\n",
       "Historical fiction               30.468293\n",
       "Love stories                     26.055118\n",
       "Science fiction                   8.500843\n",
       "Western stories                  24.193384\n",
       "Name: chapter_count, dtype: float64"
      ]
     },
     "execution_count": 10,
     "metadata": {},
     "output_type": "execute_result"
    }
   ],
   "source": [
    "full_df.groupby(['atomic_subject'])['chapter_count'].mean()"
   ]
  },
  {
   "cell_type": "code",
   "execution_count": 11,
   "metadata": {
    "collapsed": false
   },
   "outputs": [
    {
     "data": {
      "text/plain": [
       "atomic_subject\n",
       "Adventure stories                 165\n",
       "Detective and mystery stories    1484\n",
       "Historical fiction                595\n",
       "Love stories                      242\n",
       "Science fiction                   104\n",
       "Western stories                    93\n",
       "Name: chapter_count, dtype: int64"
      ]
     },
     "execution_count": 11,
     "metadata": {},
     "output_type": "execute_result"
    }
   ],
   "source": [
    "full_df.groupby(['atomic_subject'])['chapter_count'].max()"
   ]
  },
  {
   "cell_type": "code",
   "execution_count": 12,
   "metadata": {
    "collapsed": false
   },
   "outputs": [
    {
     "data": {
      "text/plain": [
       "atomic_subject\n",
       "Adventure stories                2\n",
       "Detective and mystery stories    2\n",
       "Historical fiction               2\n",
       "Love stories                     2\n",
       "Science fiction                  2\n",
       "Western stories                  2\n",
       "Name: chapter_count, dtype: int64"
      ]
     },
     "execution_count": 12,
     "metadata": {},
     "output_type": "execute_result"
    }
   ],
   "source": [
    "full_df.groupby(['atomic_subject'])['chapter_count'].min()"
   ]
  },
  {
   "cell_type": "code",
   "execution_count": 13,
   "metadata": {
    "collapsed": false
   },
   "outputs": [
    {
     "data": {
      "text/plain": [
       "atomic_subject\n",
       "Adventure stories                20.668693\n",
       "Detective and mystery stories    68.028852\n",
       "Historical fiction               36.925819\n",
       "Love stories                     22.906054\n",
       "Science fiction                   9.408610\n",
       "Western stories                  15.767710\n",
       "Name: chapter_count, dtype: float64"
      ]
     },
     "execution_count": 13,
     "metadata": {},
     "output_type": "execute_result"
    }
   ],
   "source": [
    "full_df.groupby(['atomic_subject'])['chapter_count'].std()"
   ]
  },
  {
   "cell_type": "code",
   "execution_count": 14,
   "metadata": {
    "collapsed": false
   },
   "outputs": [
    {
     "data": {
      "text/plain": [
       "Adventure stories                0.058824\n",
       "Detective and mystery stories    0.096907\n",
       "Historical fiction               0.068293\n",
       "Love stories                     0.088583\n",
       "Science fiction                  0.107926\n",
       "Western stories                  0.081425\n",
       "Name: atomic_subject, dtype: float64"
      ]
     },
     "execution_count": 14,
     "metadata": {},
     "output_type": "execute_result"
    }
   ],
   "source": [
    "full_df[full_df['chapter_count'] == 2]['atomic_subject'].value_counts().div(full_df['atomic_subject'].value_counts())"
   ]
  },
  {
   "cell_type": "code",
   "execution_count": null,
   "metadata": {
    "collapsed": false
   },
   "outputs": [],
   "source": [
    "full_df.groupby(['atomic_subject'])['length'].mean()"
   ]
  },
  {
   "cell_type": "code",
   "execution_count": null,
   "metadata": {
    "collapsed": false
   },
   "outputs": [],
   "source": [
    "full_df.groupby(['atomic_subject'])['length'].max()"
   ]
  },
  {
   "cell_type": "code",
   "execution_count": null,
   "metadata": {
    "collapsed": false
   },
   "outputs": [],
   "source": [
    "full_df.groupby(['atomic_subject'])['length'].min()"
   ]
  },
  {
   "cell_type": "code",
   "execution_count": null,
   "metadata": {
    "collapsed": false
   },
   "outputs": [],
   "source": [
    "full_df.groupby(['atomic_subject'])['length'].std()"
   ]
  },
  {
   "cell_type": "code",
   "execution_count": null,
   "metadata": {
    "collapsed": false
   },
   "outputs": [],
   "source": [
    "from ai_lit.input.gutenberg_dataset import gb_chapters_dataset\n",
    "wkspc = os.path.join(ai_lit_path, 'workspace', 'gb_input')\n",
    "subjects = gb.get_subjects(wkspc)\n",
    "vocab = input_util.get_sorted_vocab(gb.get_vocabulary(wkspc))\n",
    "vocab = vocab[:5001]\n",
    "records, title_map = gb_chapters_dataset.extract_dataset(wkspc, len(subjects), vocab, -1)"
   ]
  },
  {
   "cell_type": "code",
   "execution_count": null,
   "metadata": {
    "collapsed": false
   },
   "outputs": [],
   "source": [
    "chap_df = pd.DataFrame([[book_idx, title_map[book_idx], records[book_idx]] for book_idx in records], columns = ['id', 'title-author', 'chapters'])"
   ]
  },
  {
   "cell_type": "code",
   "execution_count": null,
   "metadata": {
    "collapsed": false
   },
   "outputs": [],
   "source": [
    "chap_df['avg-len'] = chap_df['chapters'].apply(lambda x: sum([len(c) for c in x])/len(x))\n",
    "print(\"Mean:\", chap_df['avg-len'].mean())\n",
    "print(\"Median:\", chap_df['avg-len'].median())\n",
    "print(\"Min (avg):\", chap_df['avg-len'].min())\n",
    "print(\"Max (avg):\", chap_df['avg-len'].max())"
   ]
  }
 ],
 "metadata": {
  "kernelspec": {
   "display_name": "Python 3",
   "language": "python",
   "name": "python3"
  },
  "language_info": {
   "codemirror_mode": {
    "name": "ipython",
    "version": 3
   },
   "file_extension": ".py",
   "mimetype": "text/x-python",
   "name": "python",
   "nbconvert_exporter": "python",
   "pygments_lexer": "ipython3",
   "version": "3.5.3"
  }
 },
 "nbformat": 4,
 "nbformat_minor": 0
}
