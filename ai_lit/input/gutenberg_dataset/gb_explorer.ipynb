{
 "cells": [
  {
   "cell_type": "code",
   "execution_count": 1,
   "metadata": {
    "collapsed": false
   },
   "outputs": [
    {
     "name": "stdout",
     "output_type": "stream",
     "text": [
      "Loading AI Lit system from path C:\\Users\\joewo\\workspaces\\python\\ai_lit\n"
     ]
    },
    {
     "name": "stderr",
     "output_type": "stream",
     "text": [
      "C:\\Tools\\Anaconda3\\lib\\site-packages\\gensim\\utils.py:855: UserWarning: detected Windows; aliasing chunkize to chunkize_serial\n",
      "  warnings.warn(\"detected Windows; aliasing chunkize to chunkize_serial\")\n"
     ]
    }
   ],
   "source": [
    "import matplotlib\n",
    "import matplotlib.pyplot as plt\n",
    "import nltk\n",
    "import numpy as np\n",
    "import pandas as pd\n",
    "\n",
    "import os\n",
    "import sys\n",
    "ai_lit_path = os.path.abspath(os.path.join(os.getcwd(), os.pardir, os.pardir, os.pardir))\n",
    "print(\"Loading AI Lit system from path\", ai_lit_path)\n",
    "sys.path.append(ai_lit_path)\n",
    "from ai_lit.input import input_util\n",
    "from ai_lit.input.gutenberg_dataset import gb_input as gb\n",
    "from ai_lit.input.gutenberg_dataset import gb_dataset_util\n",
    "\n",
    "# Make the graphs a bit prettier, and bigger\n",
    "pd.set_option('display.mpl_style', 'default') \n",
    "pd.set_option('display.width', 5000) \n",
    "pd.set_option('display.max_columns', 60) \n",
    "\n",
    "# include matplot inline in the workbook\n",
    "%matplotlib inline\n",
    "matplotlib.style.use('ggplot')"
   ]
  },
  {
   "cell_type": "code",
   "execution_count": 2,
   "metadata": {
    "collapsed": false
   },
   "outputs": [],
   "source": [
    "train, test, sbjs, vocab = gb.get_inputs(os.path.join(ai_lit_path, 'workspace', 'gb_input'), 5000)"
   ]
  },
  {
   "cell_type": "code",
   "execution_count": 3,
   "metadata": {
    "collapsed": false
   },
   "outputs": [
    {
     "name": "stdout",
     "output_type": "stream",
     "text": [
      "Train set length: 2528\n",
      "Test set length: 1049\n"
     ]
    }
   ],
   "source": [
    "print(\"Train set length:\", len(train))\n",
    "print(\"Test set length:\", len(test))"
   ]
  },
  {
   "cell_type": "code",
   "execution_count": 4,
   "metadata": {
    "collapsed": false
   },
   "outputs": [],
   "source": [
    "variables = train[0].__dict__.keys()\n",
    "train_df = pd.DataFrame([[getattr(i,j) for j in variables] for i in train], columns = variables)\n",
    "test_df = pd.DataFrame([[getattr(i,j) for j in variables] for i in test], columns = variables)"
   ]
  },
  {
   "cell_type": "code",
   "execution_count": 5,
   "metadata": {
    "collapsed": false
   },
   "outputs": [
    {
     "name": "stdout",
     "output_type": "stream",
     "text": [
      "[Train] Number of unknown authors: 13\n",
      "[Train] Number of unknown titles: 0\n",
      "[Test] Number of unknown authors: 1\n",
      "[Test] Number of unknown titles: 0\n"
     ]
    }
   ],
   "source": [
    "print(\"[Train] Number of unknown authors:\", len(train_df[train_df['author'] == 'unknown']))\n",
    "print(\"[Train] Number of unknown titles:\", len(train_df[train_df['title'] == 'unknown']))\n",
    "print(\"[Test] Number of unknown authors:\", len(test_df[test_df['author'] == 'unknown']))\n",
    "print(\"[Test] Number of unknown titles:\", len(test_df[test_df['title'] == 'unknown']))"
   ]
  },
  {
   "cell_type": "code",
   "execution_count": null,
   "metadata": {
    "collapsed": true
   },
   "outputs": [],
   "source": [
    "train_df['chapter_count'] = train_df['body'].apply(lambda x: len(input_util.parse_chapters(x)))\n",
    "test_df['chapter_count'] = test_df['body'].apply(lambda x: len(input_util.parse_chapters(x)))"
   ]
  },
  {
   "cell_type": "code",
   "execution_count": null,
   "metadata": {
    "collapsed": false
   },
   "outputs": [],
   "source": [
    "#train_df['length'] = train_df['body'].apply(lambda x: len(nltk.word_tokenize(x)))\n",
    "#test_df['length'] = test_df['body'].apply(lambda x: len(nltk.word_tokenize(x)))"
   ]
  },
  {
   "cell_type": "code",
   "execution_count": 7,
   "metadata": {
    "collapsed": true
   },
   "outputs": [],
   "source": [
    "train_df['atomic_subject'] = train_df['subjects'].apply(lambda x: gb_dataset_util.get_atomic_subject(x, sbjs))\n",
    "test_df['atomic_subject'] = test_df['subjects'].apply(lambda x: gb_dataset_util.get_atomic_subject(x, sbjs))"
   ]
  },
  {
   "cell_type": "code",
   "execution_count": 8,
   "metadata": {
    "collapsed": true
   },
   "outputs": [],
   "source": [
    "full_df = pd.concat([train_df, test_df])"
   ]
  },
  {
   "cell_type": "code",
   "execution_count": 9,
   "metadata": {
    "collapsed": false
   },
   "outputs": [
    {
     "name": "stdout",
     "output_type": "stream",
     "text": [
      "Science fiction                  1186\n",
      "Adventure stories                 595\n",
      "Love stories                      508\n",
      "Detective and mystery stories     485\n",
      "Historical fiction                410\n",
      "Western stories                   393\n",
      "Name: atomic_subject, dtype: int64\n"
     ]
    }
   ],
   "source": [
    "print(full_df['atomic_subject'].value_counts())"
   ]
  },
  {
   "cell_type": "code",
   "execution_count": null,
   "metadata": {
    "collapsed": false
   },
   "outputs": [],
   "source": [
    "print(full_df.groupby(['atomic_subject'])['chapter_count'].mean())"
   ]
  },
  {
   "cell_type": "code",
   "execution_count": null,
   "metadata": {
    "collapsed": false
   },
   "outputs": [],
   "source": [
    "print(full_df['chapter_count'].mean())"
   ]
  },
  {
   "cell_type": "code",
   "execution_count": null,
   "metadata": {
    "collapsed": false
   },
   "outputs": [],
   "source": [
    "full_df.groupby(['atomic_subject'])['chapter_count'].max()"
   ]
  },
  {
   "cell_type": "code",
   "execution_count": null,
   "metadata": {
    "collapsed": false
   },
   "outputs": [],
   "source": [
    "full_df.groupby(['atomic_subject'])['chapter_count'].min()"
   ]
  },
  {
   "cell_type": "code",
   "execution_count": null,
   "metadata": {
    "collapsed": false
   },
   "outputs": [],
   "source": [
    "full_df.groupby(['atomic_subject'])['chapter_count'].std()"
   ]
  },
  {
   "cell_type": "code",
   "execution_count": null,
   "metadata": {
    "collapsed": false
   },
   "outputs": [],
   "source": [
    "full_df[full_df['chapter_count'] == 2]['atomic_subject'].value_counts().div(full_df['atomic_subject'].value_counts())"
   ]
  },
  {
   "cell_type": "code",
   "execution_count": null,
   "metadata": {
    "collapsed": false
   },
   "outputs": [],
   "source": [
    "full_df.groupby(['atomic_subject'])['length'].mean()"
   ]
  },
  {
   "cell_type": "code",
   "execution_count": null,
   "metadata": {
    "collapsed": false
   },
   "outputs": [],
   "source": [
    "full_df.groupby(['atomic_subject'])['length'].max()"
   ]
  },
  {
   "cell_type": "code",
   "execution_count": null,
   "metadata": {
    "collapsed": false
   },
   "outputs": [],
   "source": [
    "full_df.groupby(['atomic_subject'])['length'].min()"
   ]
  },
  {
   "cell_type": "code",
   "execution_count": null,
   "metadata": {
    "collapsed": false
   },
   "outputs": [],
   "source": [
    "full_df.groupby(['atomic_subject'])['length'].std()"
   ]
  },
  {
   "cell_type": "code",
   "execution_count": 3,
   "metadata": {
    "collapsed": false
   },
   "outputs": [],
   "source": [
    "from ai_lit.input.gutenberg_dataset import gb_chapters_dataset\n",
    "wkspc = os.path.join(ai_lit_path, 'workspace', 'gb_input')\n",
    "subjects = gb.get_subjects(wkspc)\n",
    "vocab = input_util.get_sorted_vocab(gb.get_vocabulary(wkspc))\n",
    "vocab = vocab[:5001]"
   ]
  },
  {
   "cell_type": "code",
   "execution_count": 4,
   "metadata": {
    "collapsed": false
   },
   "outputs": [
    {
     "name": "stdout",
     "output_type": "stream",
     "text": [
      "Training examples exhausted\n",
      "Training examples exhausted\n"
     ]
    }
   ],
   "source": [
    "records, title_map = gb_chapters_dataset.extract_dataset(wkspc, len(subjects), vocab, -1)\n",
    "train_chap_df = pd.DataFrame([[book_idx, title_map[book_idx], records[book_idx]] for book_idx in records],\n",
    "                       columns = ['id', 'title-author', 'chapters'])\n",
    "records, title_map = gb_chapters_dataset.extract_dataset(wkspc, len(subjects), vocab, -1, train=False)\n",
    "\n",
    "test_chap_df = pd.DataFrame([[book_idx, title_map[book_idx], records[book_idx]] for book_idx in records],\n",
    "                       columns = ['id', 'title-author', 'chapters'])\n",
    "\n",
    "full_chap_df = pd.concat([train_chap_df, test_chap_df])\n",
    "full_chap_df['subject'] = full_chap_df['chapters'].apply(\n",
    "    lambda c: subjects[np.argmax(next(iter(c.values())).target)])"
   ]
  },
  {
   "cell_type": "code",
   "execution_count": 6,
   "metadata": {
    "collapsed": false
   },
   "outputs": [
    {
     "data": {
      "text/plain": [
       "Science fiction                  1186\n",
       "Adventure stories                 595\n",
       "Love stories                      508\n",
       "Detective and mystery stories     485\n",
       "Historical fiction                410\n",
       "Western stories                   393\n",
       "Name: subject, dtype: int64"
      ]
     },
     "execution_count": 6,
     "metadata": {},
     "output_type": "execute_result"
    }
   ],
   "source": [
    "full_chap_df['subject'].value_counts()"
   ]
  },
  {
   "cell_type": "code",
   "execution_count": 56,
   "metadata": {
    "collapsed": false
   },
   "outputs": [
    {
     "name": "stdout",
     "output_type": "stream",
     "text": [
      "Body lengths: count       3577.000000\n",
      "mean      379101.504054\n",
      "std       389025.260266\n",
      "min        11294.000000\n",
      "25%       115167.000000\n",
      "50%       257761.000000\n",
      "75%       519813.000000\n",
      "max      7699632.000000\n",
      "Name: body-len, dtype: float64\n",
      "\n",
      "Body lengths by subject: subject\n",
      "Adventure stories                459556\n",
      "Detective and mystery stories    475883\n",
      "Historical fiction               558343\n",
      "Love stories                     480265\n",
      "Science fiction                  165874\n",
      "Western stories                  463569\n",
      "Name: body-len, dtype: int64\n",
      "\n",
      "Avg chapter lengths: count      3577.000000\n",
      "mean      23694.621157\n",
      "std       16685.905174\n",
      "min        3199.603433\n",
      "25%       12296.695652\n",
      "50%       18795.475000\n",
      "75%       29311.333333\n",
      "max      169558.000000\n",
      "Name: avg-len, dtype: float64\n",
      "\n",
      "Min chapter lengths: count      3577.000000\n",
      "mean       8567.315348\n",
      "std       11269.122934\n",
      "min         158.000000\n",
      "25%        5049.000000\n",
      "50%        5995.000000\n",
      "75%        7594.000000\n",
      "max      169558.000000\n",
      "Name: min-len, dtype: float64\n",
      "\n",
      "Mean by subject: subject\n",
      "Adventure stories                22288.543197\n",
      "Detective and mystery stories    25301.216999\n",
      "Historical fiction               26046.483705\n",
      "Love stories                     25684.878539\n",
      "Science fiction                  21309.167763\n",
      "Western stories                  26013.325309\n",
      "Name: avg-len, dtype: float64\n",
      "\n",
      "Median by subject: subject\n",
      "Adventure stories                18006.311475\n",
      "Detective and mystery stories    20185.550000\n",
      "Historical fiction               20673.030303\n",
      "Love stories                     20525.411765\n",
      "Science fiction                  17273.750000\n",
      "Western stories                  20858.600000\n",
      "Name: avg-len, dtype: float64\n",
      "\n",
      "Min by subject (avg): subject\n",
      "Adventure stories                4714.166667\n",
      "Detective and mystery stories    3199.603433\n",
      "Historical fiction               7032.818182\n",
      "Love stories                     6105.438017\n",
      "Science fiction                  5575.333333\n",
      "Western stories                  5655.875000\n",
      "Name: avg-len, dtype: float64\n",
      "\n",
      "Max by subject (avg): subject\n",
      "Adventure stories                122446.5\n",
      "Detective and mystery stories    116894.5\n",
      "Historical fiction               169558.0\n",
      "Love stories                     156107.0\n",
      "Science fiction                  167679.0\n",
      "Western stories                  120553.0\n",
      "Name: avg-len, dtype: float64\n"
     ]
    }
   ],
   "source": [
    "full_chap_df['avg-len'] = full_chap_df['chapters'].apply(\n",
    "    lambda x: sum([len(c.body) for c in x.values()])/len(x.values()))\n",
    "full_chap_df['min-len'] = full_chap_df['chapters'].apply(\n",
    "    lambda x: min([len(c.body) for c in x.values()]))\n",
    "full_chap_df['body-len'] = full_chap_df['chapters'].apply(\n",
    "    lambda x: sum([len(c.body) for c in x.values()]))\n",
    "\n",
    "print(\"Body lengths:\", full_chap_df['body-len'].describe())\n",
    "print()\n",
    "print(\"Body lengths by subject:\", full_chap_df.groupby(['subject'])['body-len'].mean())\n",
    "print()\n",
    "print(\"Avg chapter lengths:\", full_chap_df['avg-len'].describe())\n",
    "print()\n",
    "print(\"Min chapter lengths:\", full_chap_df['min-len'].describe())\n",
    "print()\n",
    "print(\"Mean by subject:\", full_chap_df.groupby(['subject'])['avg-len'].mean())\n",
    "print()\n",
    "print(\"Median by subject:\", full_chap_df.groupby(['subject'])['avg-len'].median())\n",
    "print()\n",
    "print(\"Min by subject (avg):\", full_chap_df.groupby(['subject'])['avg-len'].min())\n",
    "print()\n",
    "print(\"Max by subject (avg):\", full_chap_df.groupby(['subject'])['avg-len'].max())"
   ]
  },
  {
   "cell_type": "code",
   "execution_count": 51,
   "metadata": {
    "collapsed": false
   },
   "outputs": [
    {
     "name": "stdout",
     "output_type": "stream",
     "text": [
      "count    3577.000000\n",
      "mean       19.379368\n",
      "std        26.805394\n",
      "min         2.000000\n",
      "25%         6.000000\n",
      "50%        15.000000\n",
      "75%        28.000000\n",
      "max      1107.000000\n",
      "Name: chapter-count, dtype: float64\n"
     ]
    },
    {
     "data": {
      "text/plain": [
       "subject                             \n",
       "Adventure stories              count     595.000000\n",
       "                               mean       24.489076\n",
       "                               std        17.841364\n",
       "                               min         2.000000\n",
       "                               25%        13.000000\n",
       "                               50%        23.000000\n",
       "                               75%        32.000000\n",
       "                               max       138.000000\n",
       "Detective and mystery stories  count     485.000000\n",
       "                               mean       25.092784\n",
       "                               std        51.087974\n",
       "                               min         2.000000\n",
       "                               25%        13.000000\n",
       "                               50%        23.000000\n",
       "                               75%        32.000000\n",
       "                               max      1107.000000\n",
       "Historical fiction             count     410.000000\n",
       "                               mean       27.797561\n",
       "                               std        35.380233\n",
       "                               min         2.000000\n",
       "                               25%        11.000000\n",
       "                               50%        23.500000\n",
       "                               75%        36.000000\n",
       "                               max       595.000000\n",
       "Love stories                   count     508.000000\n",
       "                               mean       24.236220\n",
       "                               std        20.810484\n",
       "                               min         2.000000\n",
       "                               25%         6.000000\n",
       "                               50%        22.000000\n",
       "                               75%        34.000000\n",
       "                               max       242.000000\n",
       "Science fiction                count    1186.000000\n",
       "                               mean        8.228499\n",
       "                               std         8.290764\n",
       "                               min         2.000000\n",
       "                               25%         6.000000\n",
       "                               50%         6.000000\n",
       "                               75%         6.000000\n",
       "                               max       104.000000\n",
       "Western stories                count     393.000000\n",
       "                               mean       23.183206\n",
       "                               std        14.159875\n",
       "                               min         2.000000\n",
       "                               25%        12.000000\n",
       "                               50%        24.000000\n",
       "                               75%        31.000000\n",
       "                               max        87.000000\n",
       "dtype: float64"
      ]
     },
     "execution_count": 51,
     "metadata": {},
     "output_type": "execute_result"
    }
   ],
   "source": [
    "full_chap_df['chapter-count'] = full_chap_df['chapters'].apply(lambda x: len(x))\n",
    "print(full_chap_df['chapter-count'].describe())\n",
    "full_chap_df.groupby(['subject'])['chapter-count'].describe()"
   ]
  },
  {
   "cell_type": "code",
   "execution_count": null,
   "metadata": {
    "collapsed": true
   },
   "outputs": [],
   "source": []
  }
 ],
 "metadata": {
  "kernelspec": {
   "display_name": "Python 3",
   "language": "python",
   "name": "python3"
  },
  "language_info": {
   "codemirror_mode": {
    "name": "ipython",
    "version": 3
   },
   "file_extension": ".py",
   "mimetype": "text/x-python",
   "name": "python",
   "nbconvert_exporter": "python",
   "pygments_lexer": "ipython3",
   "version": "3.5.3"
  }
 },
 "nbformat": 4,
 "nbformat_minor": 0
}
